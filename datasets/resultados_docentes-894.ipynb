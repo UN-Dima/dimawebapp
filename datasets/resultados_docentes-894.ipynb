{
 "cells": [
  {
   "cell_type": "code",
   "execution_count": 10,
   "id": "b5ca2d54-c848-4fd3-8d05-f2ac3b531e68",
   "metadata": {},
   "outputs": [],
   "source": [
    "import pandas as pd\n",
    "import numpy as np"
   ]
  },
  {
   "cell_type": "code",
   "execution_count": 3,
   "id": "719abac8-22ed-42d8-afcf-00f387adce84",
   "metadata": {},
   "outputs": [
    {
     "data": {
      "text/html": [
       "<div>\n",
       "<style scoped>\n",
       "    .dataframe tbody tr th:only-of-type {\n",
       "        vertical-align: middle;\n",
       "    }\n",
       "\n",
       "    .dataframe tbody tr th {\n",
       "        vertical-align: top;\n",
       "    }\n",
       "\n",
       "    .dataframe thead th {\n",
       "        text-align: right;\n",
       "    }\n",
       "</style>\n",
       "<table border=\"1\" class=\"dataframe\">\n",
       "  <thead>\n",
       "    <tr style=\"text-align: right;\">\n",
       "      <th></th>\n",
       "      <th>CEDULA</th>\n",
       "      <th>APELLIDOS Y NOMBRE</th>\n",
       "      <th>DEPARTAMENTO</th>\n",
       "      <th>FACULTAD</th>\n",
       "      <th>CATEGORIA</th>\n",
       "    </tr>\n",
       "  </thead>\n",
       "  <tbody>\n",
       "    <tr>\n",
       "      <th>0</th>\n",
       "      <td>10.271.133</td>\n",
       "      <td>AGUDELO AGUIRRE ALBERTO ANTONIO</td>\n",
       "      <td>DEPARTAMENTO DE ADMINISTRACIÓN</td>\n",
       "      <td>FACULTAD DE ADMINISTRACIÓN</td>\n",
       "      <td>NaN</td>\n",
       "    </tr>\n",
       "    <tr>\n",
       "      <th>1</th>\n",
       "      <td>30.394.025</td>\n",
       "      <td>ALVAREZ GIRALDO CLAUDIA MILENA</td>\n",
       "      <td>DEPARTAMENTO DE ADMINISTRACIÓN</td>\n",
       "      <td>FACULTAD DE ADMINISTRACIÓN</td>\n",
       "      <td>INVESTIGADOR ASOCIADO (I)</td>\n",
       "    </tr>\n",
       "    <tr>\n",
       "      <th>2</th>\n",
       "      <td>10.236.570</td>\n",
       "      <td>ARISTIZABAL LOPEZ NELSON</td>\n",
       "      <td>DEPARTAMENTO DE ADMINISTRACIÓN</td>\n",
       "      <td>FACULTAD DE ADMINISTRACIÓN</td>\n",
       "      <td>NaN</td>\n",
       "    </tr>\n",
       "    <tr>\n",
       "      <th>3</th>\n",
       "      <td>10.244.391</td>\n",
       "      <td>BAUTISTA PARRADO MIGUEL</td>\n",
       "      <td>DEPARTAMENTO DE ADMINISTRACIÓN</td>\n",
       "      <td>FACULTAD DE ADMINISTRACIÓN</td>\n",
       "      <td>NaN</td>\n",
       "    </tr>\n",
       "    <tr>\n",
       "      <th>4</th>\n",
       "      <td>10.266.455</td>\n",
       "      <td>CARVAJAL OROZCO JOSE GABRIEL</td>\n",
       "      <td>DEPARTAMENTO DE ADMINISTRACIÓN</td>\n",
       "      <td>FACULTAD DE ADMINISTRACIÓN</td>\n",
       "      <td>INVESTIGADOR JUNIOR (IJ)</td>\n",
       "    </tr>\n",
       "  </tbody>\n",
       "</table>\n",
       "</div>"
      ],
      "text/plain": [
       "       CEDULA               APELLIDOS Y NOMBRE  \\\n",
       "0  10.271.133  AGUDELO AGUIRRE ALBERTO ANTONIO   \n",
       "1  30.394.025   ALVAREZ GIRALDO CLAUDIA MILENA   \n",
       "2  10.236.570         ARISTIZABAL LOPEZ NELSON   \n",
       "3  10.244.391          BAUTISTA PARRADO MIGUEL   \n",
       "4  10.266.455     CARVAJAL OROZCO JOSE GABRIEL   \n",
       "\n",
       "                     DEPARTAMENTO                    FACULTAD  \\\n",
       "0  DEPARTAMENTO DE ADMINISTRACIÓN  FACULTAD DE ADMINISTRACIÓN   \n",
       "1  DEPARTAMENTO DE ADMINISTRACIÓN  FACULTAD DE ADMINISTRACIÓN   \n",
       "2  DEPARTAMENTO DE ADMINISTRACIÓN  FACULTAD DE ADMINISTRACIÓN   \n",
       "3  DEPARTAMENTO DE ADMINISTRACIÓN  FACULTAD DE ADMINISTRACIÓN   \n",
       "4  DEPARTAMENTO DE ADMINISTRACIÓN  FACULTAD DE ADMINISTRACIÓN   \n",
       "\n",
       "                   CATEGORIA  \n",
       "0                        NaN  \n",
       "1  INVESTIGADOR ASOCIADO (I)  \n",
       "2                        NaN  \n",
       "3                        NaN  \n",
       "4   INVESTIGADOR JUNIOR (IJ)  "
      ]
     },
     "execution_count": 3,
     "metadata": {},
     "output_type": "execute_result"
    }
   ],
   "source": [
    "df = pd.read_csv('resultados_docentes-894.csv')\n",
    "df.head()"
   ]
  },
  {
   "cell_type": "code",
   "execution_count": 6,
   "id": "843c6233-faf1-4ebe-be11-f64cb4c576f3",
   "metadata": {},
   "outputs": [
    {
     "data": {
      "text/plain": [
       "Index(['CEDULA', 'APELLIDOS Y NOMBRE', 'DEPARTAMENTO', 'FACULTAD',\n",
       "       'CATEGORIA'],\n",
       "      dtype='object')"
      ]
     },
     "execution_count": 6,
     "metadata": {},
     "output_type": "execute_result"
    }
   ],
   "source": [
    "df.columns"
   ]
  },
  {
   "cell_type": "code",
   "execution_count": 15,
   "id": "cd3ae2f5-d1a2-486d-99c8-3cf699db049c",
   "metadata": {},
   "outputs": [],
   "source": [
    "get_set = lambda column:[d.capitalize() for d in np.unique(df[column].to_list())]"
   ]
  },
  {
   "cell_type": "code",
   "execution_count": 16,
   "id": "fbf1f9c7-7e21-496f-8c9e-9fbfc439a635",
   "metadata": {},
   "outputs": [
    {
     "data": {
      "text/plain": [
       "['Departamento de administración',\n",
       " 'Departamento de ciencias humanas',\n",
       " 'Departamento de física y química',\n",
       " 'Departamento de informática y computación',\n",
       " 'Departamento de ingeniería civil',\n",
       " 'Departamento de ingeniería eléctrica, electrónica y computación',\n",
       " 'Departamento de ingeniería industrial',\n",
       " 'Departamento de ingeniería química',\n",
       " 'Departamento de matemáticas',\n",
       " 'Escuela de arquitectura y urbanismo',\n",
       " 'Instituto de estudios ambientales - idea - manizales']"
      ]
     },
     "execution_count": 16,
     "metadata": {},
     "output_type": "execute_result"
    }
   ],
   "source": [
    "get_set('DEPARTAMENTO')"
   ]
  },
  {
   "cell_type": "code",
   "execution_count": 17,
   "id": "eaf0d20d-f166-4d5f-9551-ef46f1c5f15c",
   "metadata": {},
   "outputs": [
    {
     "data": {
      "text/plain": [
       "['Investigador asociado (i)',\n",
       " 'Investigador emerito (ie)',\n",
       " 'Investigador junior (ij)',\n",
       " 'Investigador senior (is)',\n",
       " 'Nan']"
      ]
     },
     "execution_count": 18,
     "metadata": {},
     "output_type": "execute_result"
    }
   ],
   "source": [
    "get_set('FACULTAD')"
   ]
  },
  {
   "cell_type": "code",
   "execution_count": 19,
   "id": "b60c630e-7023-4905-ac24-0c04a9ed3c99",
   "metadata": {},
   "outputs": [
    {
     "data": {
      "text/plain": [
       "['Investigador asociado (i)',\n",
       " 'Investigador emerito (ie)',\n",
       " 'Investigador junior (ij)',\n",
       " 'Investigador senior (is)',\n",
       " 'Nan']"
      ]
     },
     "execution_count": 19,
     "metadata": {},
     "output_type": "execute_result"
    }
   ],
   "source": [
    "get_set('CATEGORIA')"
   ]
  },
  {
   "cell_type": "code",
   "execution_count": 27,
   "id": "a421bf65-b26a-457d-ba24-e73d49b253c4",
   "metadata": {},
   "outputs": [
    {
     "data": {
      "text/plain": [
       "['NOGUERA DE ECHEVERRI ANA PATRICIA',\n",
       " 'AGUDELO CALLE JAIRO DE JESUS',\n",
       " 'LOPERA ARIAS EMER DE JESUS',\n",
       " 'RAMIREZ RAMIREZ DIOGENES DE JESUS',\n",
       " 'JARAMILLO GIRALDO JAVIER DE JESUS',\n",
       " 'ZAMBRANO NAJERA JEANNETTE DEL CARMEN',\n",
       " 'RODRIGUEZ CORDOBA MARIA DEL PILAR',\n",
       " 'GONZALEZ HOYOS NELSON DE JESUS',\n",
       " 'GIRALDO RIVERA MARIELA DEL PILAR',\n",
       " 'GUZMAN ROJAS GUSTAVO DE JESUS',\n",
       " 'SANCHEZ BELTRAN MARIA DEL PILAR']"
      ]
     },
     "execution_count": 27,
     "metadata": {},
     "output_type": "execute_result"
    }
   ],
   "source": [
    "[n for n in df['APELLIDOS Y NOMBRE'].to_list() if len(n.split())==5]"
   ]
  },
  {
   "cell_type": "code",
   "execution_count": 46,
   "id": "15b999b7-30f6-4547-8001-86260b44beb1",
   "metadata": {},
   "outputs": [],
   "source": [
    "def fix_name(name):\n",
    "    \n",
    "    name = name.lower().replace(' del', '_del').replace(' de', '_de').strip().split()\n",
    "    \n",
    "    match len(name):\n",
    "        \n",
    "        case 1:  # only first name\n",
    "            return {'first_name': ''.join(name).title()}\n",
    "        \n",
    "        case 2:  # one first name and one last name\n",
    "            return {'first_name': name[1].title(),\n",
    "                    'last_name': name[0].title()}\n",
    "        \n",
    "        case 3:  # one first name and two last name\n",
    "            return {'first_name': name[-1],\n",
    "                    'last_name': ' '.join(name[:-1]).replace('_', ' ').title()}\n",
    "        \n",
    "        case 4:  # first name and last name\n",
    "            return {'first_name': ' '.join(name[-2:]).replace('_', ' ').title(),\n",
    "                    'last_name': ' '.join(name[:-2]).replace('_', ' ').title()}  \n",
    "        \n",
    "    "
   ]
  },
  {
   "cell_type": "code",
   "execution_count": 47,
   "id": "759b08b1-97e2-4e39-b0e9-40f32f6c71bf",
   "metadata": {},
   "outputs": [
    {
     "data": {
      "text/plain": [
       "{'first_name': 'Maria Del Pilar', 'last_name': 'Sanchez Beltran'}"
      ]
     },
     "execution_count": 47,
     "metadata": {},
     "output_type": "execute_result"
    }
   ],
   "source": [
    "fix_name('SANCHEZ BELTRAN MARIA DEL PILAR')"
   ]
  },
  {
   "cell_type": "code",
   "execution_count": 33,
   "id": "994d0477-9fd9-4287-a901-c3f91843de58",
   "metadata": {},
   "outputs": [
    {
     "data": {
      "text/plain": [
       "['zambrano', 'najera', 'jeannette_del', 'carmen']"
      ]
     },
     "execution_count": 33,
     "metadata": {},
     "output_type": "execute_result"
    }
   ],
   "source": [
    "'ZAMBRANO NAJERA JEANNETTE DEL CARMEN'.lower().replace(' del', '_del').replace(' de', '_de').strip().split()"
   ]
  }
 ],
 "metadata": {
  "kernelspec": {
   "display_name": "Python 3 (ipykernel)",
   "language": "python",
   "name": "python3"
  },
  "language_info": {
   "codemirror_mode": {
    "name": "ipython",
    "version": 3
   },
   "file_extension": ".py",
   "mimetype": "text/x-python",
   "name": "python",
   "nbconvert_exporter": "python",
   "pygments_lexer": "ipython3",
   "version": "3.10.6"
  }
 },
 "nbformat": 4,
 "nbformat_minor": 5
}
